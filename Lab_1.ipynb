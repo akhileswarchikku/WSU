{
  "nbformat": 4,
  "nbformat_minor": 0,
  "metadata": {
    "colab": {
      "provenance": []
    },
    "kernelspec": {
      "name": "python3",
      "display_name": "Python 3"
    },
    "language_info": {
      "name": "python"
    }
  },
  "cells": [
    {
      "cell_type": "markdown",
      "source": [
        "# Name Akhileswar Pathinavalasa\n"
      ],
      "metadata": {
        "id": "XCf-x7pZaysE"
      }
    },
    {
      "cell_type": "code",
      "execution_count": 3,
      "metadata": {
        "colab": {
          "base_uri": "https://localhost:8080/"
        },
        "id": "Z70WX0HGWgIM",
        "outputId": "e577e4f4-884d-494a-fe52-22df766c1b0e"
      },
      "outputs": [
        {
          "output_type": "stream",
          "name": "stdout",
          "text": [
            "Enter pessimistic:100\n",
            "Enter Middle:125\n",
            "Enter optimistic:175\n",
            "Weighted average forecast: 131\n"
          ]
        }
      ],
      "source": [
        "#Part A\n",
        "pessimistic = int(input(\"Enter pessimistic:\"))\n",
        "middle = int(input(\"Enter Middle:\"))\n",
        "optimistic = int(input(\"Enter optimistic:\"))\n",
        "weighted_avg = 0.25 * pessimistic + 0.5 * middle + 0.25 * optimistic\n",
        "print(f\"Weighted average forecast: {int(weighted_avg)}\")"
      ]
    },
    {
      "cell_type": "code",
      "source": [
        "#Part B\n",
        "weight_in_pounds = int(input(\"Enter weight in pounds:\"))\n",
        "height_in_inches = int(input(\"Enter height in inches:\"))\n",
        "\n",
        "BMI = (weight_in_pounds/height_in_inches**2) * 703\n",
        "\n",
        "weight_low = 18.05 * (height_in_inches**2) / 703\n",
        "weight_high = 24.9 * (height_in_inches**2) / 703\n",
        "\n",
        "print(f\"For a height of {height_in_inches}, the healthy weight range is between {weight_low} and {weight_high}\")"
      ],
      "metadata": {
        "colab": {
          "base_uri": "https://localhost:8080/"
        },
        "id": "_ZmlmQNcX7eD",
        "outputId": "bdbf0c0d-09a1-411d-a298-d2201a58048d"
      },
      "execution_count": 12,
      "outputs": [
        {
          "output_type": "stream",
          "name": "stdout",
          "text": [
            "Enter weight in pounds:100\n",
            "Enter height in inches:66\n",
            "For a height of 66, the healthy weight range is between 111.84324324324325 and 154.28790896159316\n"
          ]
        }
      ]
    },
    {
      "cell_type": "code",
      "source": [],
      "metadata": {
        "id": "EMDSG4pXZ0nS"
      },
      "execution_count": 12,
      "outputs": []
    },
    {
      "cell_type": "code",
      "source": [],
      "metadata": {
        "id": "RvkBiRxZdZlg"
      },
      "execution_count": null,
      "outputs": []
    }
  ]
}